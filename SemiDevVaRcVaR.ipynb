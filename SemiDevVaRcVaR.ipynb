{
 "cells": [
  {
   "cell_type": "markdown",
   "metadata": {},
   "source": [
    "# Downside!"
   ]
  },
  {
   "cell_type": "code",
   "execution_count": 3,
   "metadata": {},
   "outputs": [],
   "source": [
    "import pandas as pd\n",
    "import edhec_risk_kit as erk\n",
    "%load_ext autoreload\n",
    "%autoreload 2"
   ]
  },
  {
   "cell_type": "code",
   "execution_count": 4,
   "metadata": {},
   "outputs": [],
   "source": [
    "hfi = erk.get_hfi_returns()"
   ]
  },
  {
   "cell_type": "markdown",
   "metadata": {},
   "source": [
    "## Semideviation"
   ]
  },
  {
   "cell_type": "code",
   "execution_count": 5,
   "metadata": {},
   "outputs": [
    {
     "data": {
      "text/plain": [
       "Convertible Arbitrage     0.016706\n",
       "CTA Global                0.022718\n",
       "Distressed Securities     0.018084\n",
       "Emerging Markets          0.032599\n",
       "Equity Market Neutral     0.008181\n",
       "Event Driven              0.019008\n",
       "Fixed Income Arbitrage    0.011427\n",
       "Global Macro              0.014609\n",
       "Long/Short Equity         0.020834\n",
       "Merger Arbitrage          0.011441\n",
       "Relative Value            0.011829\n",
       "Funds Of Funds            0.016030\n",
       "dtype: float64"
      ]
     },
     "execution_count": 5,
     "metadata": {},
     "output_type": "execute_result"
    }
   ],
   "source": [
    "# first we compute the usual standard deviation of returns\n",
    "hfi.std(ddof=0)"
   ]
  },
  {
   "cell_type": "code",
   "execution_count": 6,
   "metadata": {},
   "outputs": [
    {
     "data": {
      "text/plain": [
       "Convertible Arbitrage     0.020130\n",
       "CTA Global                0.012199\n",
       "Distressed Securities     0.017574\n",
       "Emerging Markets          0.028596\n",
       "Equity Market Neutral     0.009266\n",
       "Event Driven              0.019643\n",
       "Fixed Income Arbitrage    0.017645\n",
       "Global Macro              0.006666\n",
       "Long/Short Equity         0.015275\n",
       "Merger Arbitrage          0.012358\n",
       "Relative Value            0.013551\n",
       "Funds Of Funds            0.013161\n",
       "dtype: float64"
      ]
     },
     "execution_count": 6,
     "metadata": {},
     "output_type": "execute_result"
    }
   ],
   "source": [
    "# to calculate the standard deviations of only the negative returns, a.k.a semideviation\n",
    "hfi[hfi<0].std(ddof=0)"
   ]
  },
  {
   "cell_type": "markdown",
   "metadata": {},
   "source": [
    "We will define a new function for the semideviation and add it to the erk module"
   ]
  },
  {
   "cell_type": "code",
   "execution_count": 7,
   "metadata": {},
   "outputs": [
    {
     "data": {
      "text/plain": [
       "Convertible Arbitrage     0.020130\n",
       "CTA Global                0.012199\n",
       "Distressed Securities     0.017574\n",
       "Emerging Markets          0.028596\n",
       "Equity Market Neutral     0.009266\n",
       "Event Driven              0.019643\n",
       "Fixed Income Arbitrage    0.017645\n",
       "Global Macro              0.006666\n",
       "Long/Short Equity         0.015275\n",
       "Merger Arbitrage          0.012358\n",
       "Relative Value            0.013551\n",
       "Funds Of Funds            0.013161\n",
       "dtype: float64"
      ]
     },
     "execution_count": 7,
     "metadata": {},
     "output_type": "execute_result"
    }
   ],
   "source": [
    "# testing the function now\n",
    "erk.semideviation(hfi)"
   ]
  },
  {
   "cell_type": "markdown",
   "metadata": {},
   "source": [
    "## VaR and CVaR"
   ]
  },
  {
   "cell_type": "markdown",
   "metadata": {},
   "source": [
    "### Value at Risk\n",
    "- Historic VaR\n",
    "- Parametric VaR (Gaussian)\n",
    "- Modified Cornish-Fisher VaR"
   ]
  },
  {
   "cell_type": "markdown",
   "metadata": {},
   "source": [
    "Historic VaR"
   ]
  },
  {
   "cell_type": "code",
   "execution_count": 8,
   "metadata": {},
   "outputs": [
    {
     "data": {
      "text/plain": [
       "array([-0.01499 , -0.03147 , -0.01977 , -0.042305, -0.00834 , -0.025505,\n",
       "       -0.007155, -0.014935, -0.026205, -0.01064 , -0.01141 , -0.020305])"
      ]
     },
     "execution_count": 8,
     "metadata": {},
     "output_type": "execute_result"
    }
   ],
   "source": [
    "import numpy as np\n",
    "np.percentile(hfi, 5, axis=0) #5th percentile on each column of the hfi dataframe"
   ]
  },
  {
   "cell_type": "markdown",
   "metadata": {},
   "source": [
    "From the above result, it says, for example, that there is a 5% chance that in any given month you lose at least 1.499% from the Convertible Arbitrage strategy.\n",
    "We will define a function that produces the results in a neater tabular format and add this function to the module erk"
   ]
  },
  {
   "cell_type": "code",
   "execution_count": 11,
   "metadata": {},
   "outputs": [],
   "source": [
    "def var_historic(r, level=5):\n",
    "    \"\"\"\n",
    "    VaR Historic\n",
    "    \"\"\"\n",
    "    if isinstance(r, pd.DataFrame):\n",
    "        return r.aggregate(var_historic,level=level)\n",
    "    elif isinstance(r, pd.Series):\n",
    "        return -np.percentile(r, level) # so that the results are output as positive numbers\n",
    "    else:\n",
    "        raise TypeError(\"Expected r to be a Series or DataFrame\")"
   ]
  },
  {
   "cell_type": "code",
   "execution_count": 12,
   "metadata": {},
   "outputs": [
    {
     "data": {
      "text/plain": [
       "Convertible Arbitrage     0.014990\n",
       "CTA Global                0.031470\n",
       "Distressed Securities     0.019770\n",
       "Emerging Markets          0.042305\n",
       "Equity Market Neutral     0.008340\n",
       "Event Driven              0.025505\n",
       "Fixed Income Arbitrage    0.007155\n",
       "Global Macro              0.014935\n",
       "Long/Short Equity         0.026205\n",
       "Merger Arbitrage          0.010640\n",
       "Relative Value            0.011410\n",
       "Funds Of Funds            0.020305\n",
       "dtype: float64"
      ]
     },
     "execution_count": 12,
     "metadata": {},
     "output_type": "execute_result"
    }
   ],
   "source": [
    "var_historic(hfi)"
   ]
  },
  {
   "cell_type": "code",
   "execution_count": 13,
   "metadata": {},
   "outputs": [
    {
     "data": {
      "text/plain": [
       "Convertible Arbitrage     0.014990\n",
       "CTA Global                0.031470\n",
       "Distressed Securities     0.019770\n",
       "Emerging Markets          0.042305\n",
       "Equity Market Neutral     0.008340\n",
       "Event Driven              0.025505\n",
       "Fixed Income Arbitrage    0.007155\n",
       "Global Macro              0.014935\n",
       "Long/Short Equity         0.026205\n",
       "Merger Arbitrage          0.010640\n",
       "Relative Value            0.011410\n",
       "Funds Of Funds            0.020305\n",
       "dtype: float64"
      ]
     },
     "execution_count": 13,
     "metadata": {},
     "output_type": "execute_result"
    }
   ],
   "source": [
    "erk.var_historic(hfi) #testing out the new function in the module erk"
   ]
  },
  {
   "cell_type": "markdown",
   "metadata": {},
   "source": [
    "Parametric VaR\n",
    "\n",
    "Here we treat the return distribution as if it were Gaussian"
   ]
  },
  {
   "cell_type": "code",
   "execution_count": 14,
   "metadata": {},
   "outputs": [],
   "source": [
    "# we'll try out the 'norm' function of scipy.stats\n",
    "from scipy.stats import norm"
   ]
  },
  {
   "cell_type": "code",
   "execution_count": 16,
   "metadata": {},
   "outputs": [],
   "source": [
    "z = norm.ppf(0.05)  #percentage point function, ie z-score at 5% level, ie distance of the 5% level from the mean of the normal distribution"
   ]
  },
  {
   "cell_type": "code",
   "execution_count": 17,
   "metadata": {},
   "outputs": [
    {
     "data": {
      "text/plain": [
       "-1.6448536269514729"
      ]
     },
     "execution_count": 17,
     "metadata": {},
     "output_type": "execute_result"
    }
   ],
   "source": [
    "z"
   ]
  },
  {
   "cell_type": "code",
   "execution_count": 18,
   "metadata": {},
   "outputs": [
    {
     "data": {
      "text/plain": [
       "Convertible Arbitrage     0.021699\n",
       "CTA Global                0.033084\n",
       "Distressed Securities     0.022909\n",
       "Emerging Markets          0.046880\n",
       "Equity Market Neutral     0.009127\n",
       "Event Driven              0.024606\n",
       "Fixed Income Arbitrage    0.014391\n",
       "Global Macro              0.018491\n",
       "Long/Short Equity         0.027569\n",
       "Merger Arbitrage          0.013250\n",
       "Relative Value            0.013735\n",
       "Funds Of Funds            0.021859\n",
       "dtype: float64"
      ]
     },
     "execution_count": 18,
     "metadata": {},
     "output_type": "execute_result"
    }
   ],
   "source": [
    "-(hfi.mean() + z*hfi.std(ddof=0)) #specifying how many std dev away from the mean, this is the parametric VaR (Gaussian)"
   ]
  },
  {
   "cell_type": "markdown",
   "metadata": {},
   "source": [
    "We will write a function for the above parametric VaR calculation and add it to the erk module"
   ]
  },
  {
   "cell_type": "code",
   "execution_count": 19,
   "metadata": {},
   "outputs": [
    {
     "data": {
      "text/plain": [
       "Convertible Arbitrage     0.021699\n",
       "CTA Global                0.033084\n",
       "Distressed Securities     0.022909\n",
       "Emerging Markets          0.046880\n",
       "Equity Market Neutral     0.009127\n",
       "Event Driven              0.024606\n",
       "Fixed Income Arbitrage    0.014391\n",
       "Global Macro              0.018491\n",
       "Long/Short Equity         0.027569\n",
       "Merger Arbitrage          0.013250\n",
       "Relative Value            0.013735\n",
       "Funds Of Funds            0.021859\n",
       "dtype: float64"
      ]
     },
     "execution_count": 19,
     "metadata": {},
     "output_type": "execute_result"
    }
   ],
   "source": [
    "erk.var_gaussian(hfi)"
   ]
  },
  {
   "cell_type": "markdown",
   "metadata": {},
   "source": [
    "Cornish-Fisher VaR\n",
    "\n",
    "We will make a modification to the code for the Gaussian VaR in the erk module. Modified=True will trigger Cornish-Fisher"
   ]
  },
  {
   "cell_type": "code",
   "execution_count": 20,
   "metadata": {},
   "outputs": [
    {
     "data": {
      "text/plain": [
       "<Axes: title={'center': 'EDHEC Hedge Fund Indices: Value at Risk'}>"
      ]
     },
     "execution_count": 20,
     "metadata": {},
     "output_type": "execute_result"
    },
    {
     "data": {
      "image/png": "[encoded data removed]",
      "text/plain": [
       "<Figure size 640x480 with 1 Axes>"
      ]
     },
     "metadata": {},
     "output_type": "display_data"
    }
   ],
   "source": [
    "# we will compare the results of the three methods of computing VaR\n",
    "var_list = [erk.var_gaussian(hfi), erk.var_gaussian(hfi, modified=True), erk.var_historic(hfi)]\n",
    "comparison = pd.concat(var_list, axis=1) #create a dataframe with one row showing the VaR calculations\n",
    "comparison.columns = [\"Gaussian\", \"Cornish-Fisher\", \"Historic\"]\n",
    "comparison.plot.bar(title=\"EDHEC Hedge Fund Indices: Value at Risk\")"
   ]
  },
  {
   "cell_type": "markdown",
   "metadata": {},
   "source": [
    "## Beyond VaR, aka CVaR"
   ]
  },
  {
   "cell_type": "code",
   "execution_count": 21,
   "metadata": {},
   "outputs": [
    {
     "data": {
      "text/plain": [
       "Convertible Arbitrage     0.038780\n",
       "CTA Global                0.040620\n",
       "Distressed Securities     0.041320\n",
       "Emerging Markets          0.075447\n",
       "Equity Market Neutral     0.017520\n",
       "Event Driven              0.044453\n",
       "Fixed Income Arbitrage    0.029067\n",
       "Global Macro              0.021093\n",
       "Long/Short Equity         0.044813\n",
       "Merger Arbitrage          0.023333\n",
       "Relative Value            0.027127\n",
       "Funds Of Funds            0.035693\n",
       "dtype: float64"
      ]
     },
     "execution_count": 21,
     "metadata": {},
     "output_type": "execute_result"
    }
   ],
   "source": [
    "#CVaR is the average of all the losses that are worse than the VaR, see function defined in erk module\n",
    "erk.cvar_historic(hfi)"
   ]
  }
 ],
 "metadata": {
  "kernelspec": {
   "display_name": ".venv",
   "language": "python",
   "name": "python3"
  },
  "language_info": {
   "codemirror_mode": {
    "name": "ipython",
    "version": 3
   },
   "file_extension": ".py",
   "mimetype": "text/x-python",
   "name": "python",
   "nbconvert_exporter": "python",
   "pygments_lexer": "ipython3",
   "version": "3.11.9"
  }
 },
 "nbformat": 4,
 "nbformat_minor": 2
}
